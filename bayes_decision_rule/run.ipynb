{
 "cells": [
  {
   "cell_type": "code",
   "execution_count": 2,
   "metadata": {
    "collapsed": false
   },
   "outputs": [],
   "source": [
    "import scipy.io\n",
    "import numpy as np\n",
    "import seaborn as sns\n",
    "import matplotlib.pyplot as plt\n",
    "import warnings\n",
    "from get_x_distribution import get_x_distribution\n",
    "from likelihood import likelihood\n",
    "from posterior import posterior\n",
    "\n",
    "warnings.filterwarnings(\"ignore\")\n",
    "%matplotlib inline\n",
    "%load_ext autoreload\n",
    "%autoreload 2"
   ]
  },
  {
   "cell_type": "code",
   "execution_count": 3,
   "metadata": {
    "collapsed": false
   },
   "outputs": [
    {
     "data": {
      "image/png": "[encoded data removed]",
      "text/plain": [
       "<Figure size 432x288 with 1 Axes>"
      ]
     },
     "metadata": {},
     "output_type": "display_data"
    }
   ],
   "source": [
    "mat = scipy.io.loadmat('data.mat')\n",
    "x1_train = mat['x1_train']\n",
    "x1_test = mat['x1_test']\n",
    "x2_train = mat['x2_train']\n",
    "x2_test = mat['x2_test']\n",
    "all_x = np.concatenate([x1_train,x1_test,x2_train,x2_test],axis=1)\n",
    "r = [np.min(all_x),np.max(all_x)]\n",
    "\n",
    "train_x = get_x_distribution(x1_train,x2_train,r)\n",
    "test_x = get_x_distribution(x1_test,x2_test,r)\n",
    "\n",
    "\n",
    "sns.distplot(x1_train,kde=False,label='x1',bins=r[1]-r[0]+1,hist_kws={\"width\": 0.5})\n",
    "sns.distplot(x2_train,kde=False,label='x2',bins=r[1]-r[0]+1,hist_kws={\"width\": 0.5})\n",
    "plt.legend()\n",
    "plt.xlim((r[0],r[1]))\n",
    "\n",
    "plt.title('Train Distribution');"
   ]
  },
  {
   "cell_type": "markdown",
   "metadata": {},
   "source": [
    "## Part1 likelihood: "
   ]
  },
  {
   "cell_type": "code",
   "execution_count": 4,
   "metadata": {
    "collapsed": false
   },
   "outputs": [
    {
     "data": {
      "image/png": "[encoded data removed]",
      "text/plain": [
       "<Figure size 432x288 with 1 Axes>"
      ]
     },
     "metadata": {},
     "output_type": "display_data"
    }
   ],
   "source": [
    "l = likelihood(train_x)\n",
    "width=0.3\n",
    "plt.bar(np.arange(r[0],r[1]+1)-width/2, l[0],width=width,label='$\\omega_1$',color='r')\n",
    "plt.bar(np.arange(r[0],r[1]+1)+width/2, l[1],width=width,label='$\\omega_2$',color='g')\n",
    "plt.axis([r[0], r[1], 0, 0.5])\n",
    "plt.title('Likelihood Distribution')\n",
    "plt.xlabel('x')\n",
    "plt.ylabel('$P(x|\\omega)$')\n",
    "plt.legend();"
   ]
  },
  {
   "cell_type": "code",
   "execution_count": 5,
   "metadata": {
    "collapsed": false
   },
   "outputs": [
    {
     "name": "stdout",
     "output_type": "stream",
     "text": [
      "Error number: 64. Error rate: 0.213333.\n"
     ]
    }
   ],
   "source": [
    "# compute the number of all the misclassified x using maximum likelihood decision rule\n",
    "pred_label_ml = np.argmax(l,axis=0)\n",
    "error_c1 = sum([test_x[0][f-r[0]] for f in range(r[0],r[1]+1) if pred_label_ml[f-r[0]]!=0 ])\n",
    "error_c2 = sum([test_x[1][f-r[0]] for f in range(r[0],r[1]+1) if pred_label_ml[f-r[0]]!=1 ])\n",
    "error_num = error_c1+error_c2\n",
    "error_r = error_num/np.sum(test_x)\n",
    "print(\"Error number: %d. Error rate: %f.\"%(error_num,error_r))"
   ]
  },
  {
   "cell_type": "markdown",
   "metadata": {},
   "source": [
    "## Part2 Posterior: "
   ]
  },
  {
   "cell_type": "code",
   "execution_count": 6,
   "metadata": {
    "collapsed": false
   },
   "outputs": [
    {
     "data": {
      "image/png": "[encoded data removed]",
      "text/plain": [
       "<Figure size 432x288 with 1 Axes>"
      ]
     },
     "metadata": {},
     "output_type": "display_data"
    }
   ],
   "source": [
    "pos = posterior(train_x)\n",
    "width=0.3\n",
    "plt.bar(np.arange(r[0],r[1]+1)-width/2, pos[0],width=width,label='$\\omega_1$',color='r')\n",
    "plt.bar(np.arange(r[0],r[1]+1)+width/2, pos[1],width=width,label='$\\omega_2$',color='g')\n",
    "plt.axis([r[0], r[1], 0, 1.1])\n",
    "plt.title('Posterior Distribution')\n",
    "plt.xlabel('x')\n",
    "plt.ylabel('$P(\\omega|x)$')\n",
    "plt.legend();"
   ]
  },
  {
   "cell_type": "code",
   "execution_count": 7,
   "metadata": {
    "collapsed": false
   },
   "outputs": [
    {
     "name": "stdout",
     "output_type": "stream",
     "text": [
      "Error number: 47. Error rate: 0.156667.\n"
     ]
    }
   ],
   "source": [
    "# compute the number of all the misclassified x using optimal bayes decision rule\n",
    "pred_label_p = np.argmax(pos,axis=0)\n",
    "error_c1 = sum([test_x[0][f-r[0]] for f in range(r[0],r[1]+1) if pred_label_p[f-r[0]]!=0])\n",
    "error_c2 = sum([test_x[1][f-r[0]] for f in range(r[0],r[1]+1) if pred_label_p[f-r[0]]!=1])\n",
    "error_num = error_c1+error_c2\n",
    "error_r = error_num/np.sum(test_x)\n",
    "print(\"Error number: %d. Error rate: %f.\"%(error_num,error_r))"
   ]
  },
  {
   "cell_type": "markdown",
   "metadata": {},
   "source": [
    "# Part3 risk"
   ]
  },
  {
   "cell_type": "code",
   "execution_count": 34,
   "metadata": {
    "collapsed": false
   },
   "outputs": [
    {
     "name": "stdout",
     "output_type": "stream",
     "text": [
      "Risk: 70.934648.\n"
     ]
    }
   ],
   "source": [
    "risk_mat = np.array([[0,1],[2,0]])\n",
    "\n",
    "risk = risk_mat@pos\n",
    "\n",
    "risk_mat = np.array([[0,1],[2,0]])\n",
    "\n",
    "risk = risk_mat@pos\n",
    "total_risk = np.min(risk,axis=0)@np.sum(test_x,axis=0)\n",
    "\n",
    "print(\"Risk: %f.\"%(total_risk))"
   ]
  }
 ],
 "metadata": {
  "kernelspec": {
   "display_name": "Python 3",
   "language": "python",
   "name": "python3"
  },
  "language_info": {
   "codemirror_mode": {
    "name": "ipython",
    "version": 3
   },
   "file_extension": ".py",
   "mimetype": "text/x-python",
   "name": "python",
   "nbconvert_exporter": "python",
   "pygments_lexer": "ipython3",
   "version": "3.6.0"
  },
  "latex_envs": {
   "LaTeX_envs_menu_present": true,
   "autocomplete": true,
   "bibliofile": "biblio.bib",
   "cite_by": "apalike",
   "current_citInitial": 1,
   "eqLabelWithNumbers": true,
   "eqNumInitial": 1,
   "hotkeys": {
    "equation": "Ctrl-E",
    "itemize": "Ctrl-I"
   },
   "labels_anchors": false,
   "latex_user_defs": false,
   "report_style_numbering": false,
   "user_envs_cfg": false
  },
  "varInspector": {
   "cols": {
    "lenName": 16,
    "lenType": 16,
    "lenVar": 40
   },
   "kernels_config": {
    "python": {
     "delete_cmd_postfix": "",
     "delete_cmd_prefix": "del ",
     "library": "var_list.py",
     "varRefreshCmd": "print(var_dic_list())"
    },
    "r": {
     "delete_cmd_postfix": ") ",
     "delete_cmd_prefix": "rm(",
     "library": "var_list.r",
     "varRefreshCmd": "cat(var_dic_list()) "
    }
   },
   "types_to_exclude": [
    "module",
    "function",
    "builtin_function_or_method",
    "instance",
    "_Feature"
   ],
   "window_display": false
  }
 },
 "nbformat": 4,
 "nbformat_minor": 2
}
