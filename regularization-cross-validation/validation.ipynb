{
 "cells": [
  {
   "cell_type": "code",
   "execution_count": 177,
   "metadata": {
    "collapsed": false
   },
   "outputs": [
    {
     "name": "stdout",
     "output_type": "stream",
     "text": [
      "The autoreload extension is already loaded. To reload it, use:\n",
      "  %reload_ext autoreload\n"
     ]
    }
   ],
   "source": [
    "import scipy.io\n",
    "import numpy as np\n",
    "import seaborn as sns\n",
    "import matplotlib.pyplot as plt\n",
    "import warnings\n",
    "from utils import *\n",
    "from ridge import ridge\n",
    "from logistic_r import logistic_r\n",
    "\n",
    "warnings.filterwarnings(\"ignore\")\n",
    "%matplotlib inline\n",
    "%load_ext autoreload\n",
    "%autoreload 2"
   ]
  },
  {
   "cell_type": "markdown",
   "metadata": {},
   "source": [
    "# Implement Ridge Regression"
   ]
  },
  {
   "cell_type": "code",
   "execution_count": 156,
   "metadata": {
    "collapsed": false
   },
   "outputs": [],
   "source": [
    "train_data = scipy.io.loadmat('data/digit_train.mat')\n",
    "test_data = scipy.io.loadmat('data/digit_test.mat')\n",
    "\n",
    "x_train = train_data['X']\n",
    "y_train = train_data['y']\n",
    "x_test = test_data['X_test']\n",
    "y_test = test_data['y_test']\n",
    "\n",
    "x_train_n, mean, std = norm(x_train)\n",
    "x_test_n, _, _ = norm(x_test,mean,std)\n",
    "\n",
    "lambs = [1e-3, 1e-2, 1e-1, 1e-12, 1, 1e1, 1e2, 1e3];"
   ]
  },
  {
   "cell_type": "code",
   "execution_count": 157,
   "metadata": {
    "collapsed": false
   },
   "outputs": [
    {
     "name": "stdout",
     "output_type": "stream",
     "text": [
      "When labmda = 0.001000  Error rate = 0.110000\n",
      "When labmda = 0.010000  Error rate = 0.110000\n",
      "When labmda = 0.100000  Error rate = 0.110000\n",
      "When labmda = 0.000000  Error rate = 0.505000\n",
      "When labmda = 1.000000  Error rate = 0.105000\n",
      "When labmda = 10.000000  Error rate = 0.060000\n",
      "When labmda = 100.000000  Error rate = 0.035000\n",
      "When labmda = 1000.000000  Error rate = 0.035000\n",
      "Best labmda = 100.000000, with error rate = 0.035000\n"
     ]
    }
   ],
   "source": [
    "best_e = 100\n",
    "lamb = 0\n",
    "evals = []\n",
    "wTws = []\n",
    "\n",
    "for l in lambs:\n",
    "    e_val = 0\n",
    "    wtw = 0\n",
    "    n = x_train_n.shape[1]\n",
    "    for j in range(n):\n",
    "        x_ = np.delete(x_train_n,[j],axis=1)\n",
    "        y_ = np.delete(y_train,[j],axis=1)\n",
    "        w = ridge(x_,y_,l)\n",
    "        wTw += (w.T@w)[0][0]\n",
    "        e_val += y_train[0,j] * (w.T@np.concatenate([np.array([1]),x_train_n[:,j]]))[0] < 0\n",
    "    wTws.append(wTw/n)\n",
    "    e_val = e_val/n\n",
    "    if e_val<best_e:\n",
    "        best_e, lamb = e_val, l\n",
    "    print('When labmda = %f  Error rate = %f'%(l, e_val))\n",
    "    \n",
    "print('Best labmda = %f, with error rate = %f'%(lamb, best_e))  "
   ]
  },
  {
   "cell_type": "code",
   "execution_count": 175,
   "metadata": {
    "collapsed": false
   },
   "outputs": [
    {
     "name": "stdout",
     "output_type": "stream",
     "text": [
      "Without regularization: w^2 =  6.979759322571388e+25\n",
      "Train error = 0.470000, Test error = 0.462079\n",
      "\n",
      "With regularization: w^2 =  0.13293260766987608\n",
      "Train error = 0.000000, Test error = 0.065294 \n",
      "\n"
     ]
    }
   ],
   "source": [
    "n_train = x_train_n.shape[1]\n",
    "n_test = x_test_n.shape[1]\n",
    "for l in [1e-12,100]:\n",
    "    w = ridge(x_,y_,l)\n",
    "    wTw = (w.T@w)[0][0]    \n",
    "    e_train = np.sum(y_train * (w.T@add_bias(x_train_n)) < 0)\n",
    "    e_test = np.sum(y_test * (w.T@add_bias(x_test_n)) < 0)\n",
    "    if l<1:\n",
    "        print(\"Without regularization: w^2 = \",wTw)\n",
    "        print('Train error = %f, Test error = %f\\n'%(e_train/n_train,e_test/n_test))\n",
    "    else:\n",
    "        print(\"With regularization: w^2 = \",wTw)\n",
    "        print('Train error = %f, Test error = %f \\n'%(e_train/n_train,e_test/n_test))"
   ]
  },
  {
   "cell_type": "markdown",
   "metadata": {},
   "source": [
    "# Implement Logistic Regression"
   ]
  },
  {
   "cell_type": "code",
   "execution_count": 184,
   "metadata": {
    "collapsed": false
   },
   "outputs": [
    {
     "name": "stdout",
     "output_type": "stream",
     "text": [
      "When labmda = 0.001000  Error rate = 0.055000\n",
      "When labmda = 0.010000  Error rate = 0.060000\n",
      "When labmda = 0.100000  Error rate = 0.045000\n",
      "When labmda = 0.000000  Error rate = 0.060000\n",
      "When labmda = 1.000000  Error rate = 0.060000\n",
      "When labmda = 10.000000  Error rate = 0.650000\n",
      "When labmda = 100.000000  Error rate = 0.595000\n",
      "When labmda = 1000.000000  Error rate = 0.530000\n",
      "Best labmda = 0.100000, with error rate = 0.045000\n"
     ]
    }
   ],
   "source": [
    "best_e = 100\n",
    "lamb = 0\n",
    "evals = []\n",
    "wTws = []\n",
    "\n",
    "for l in lambs:\n",
    "    e_val = 0\n",
    "    wtw = 0\n",
    "    n = x_train_n.shape[1]\n",
    "    for j in range(n):\n",
    "        x_ = np.delete(x_train_n,[j],axis=1)\n",
    "        y_ = np.delete(y_train,[j],axis=1)\n",
    "        w = logistic_r(x_,y_,l)\n",
    "        wTw += (w.T@w)[0][0]\n",
    "        e_val += y_train[0,j] * (w.T@np.concatenate([np.array([1]),x_train_n[:,j]]))[0] < 0\n",
    "    wTws.append(wTw/n)\n",
    "    e_val = e_val/n\n",
    "    if e_val<best_e:\n",
    "        best_e, lamb = e_val, l\n",
    "    print('When labmda = %f  Error rate = %f'%(l, e_val))\n",
    "    \n",
    "print('Best labmda = %f, with error rate = %f'%(lamb, best_e))  "
   ]
  },
  {
   "cell_type": "code",
   "execution_count": 186,
   "metadata": {
    "collapsed": false
   },
   "outputs": [
    {
     "name": "stdout",
     "output_type": "stream",
     "text": [
      "Without regularization: w^2 =  3767.08860962411\n",
      "Train error = 0.000000, Test error = 0.081868\n",
      "\n",
      "Without regularization: w^2 =  65.8032831357282\n",
      "Train error = 0.000000, Test error = 0.075339\n",
      "\n"
     ]
    }
   ],
   "source": [
    "n_train = x_train_n.shape[1]\n",
    "n_test = x_test_n.shape[1]\n",
    "for l in [1e-12,0.1]:\n",
    "    w = logistic_r(x_,y_,l)\n",
    "    wTw = (w.T@w)[0][0]    \n",
    "    e_train = np.sum(y_train * (w.T@add_bias(x_train_n)) < 0)\n",
    "    e_test = np.sum(y_test * (w.T@add_bias(x_test_n)) < 0)\n",
    "    if l<1:\n",
    "        print(\"Without regularization: w^2 = \",wTw)\n",
    "        print('Train error = %f, Test error = %f\\n'%(e_train/n_train,e_test/n_test))\n",
    "    else:\n",
    "        print(\"With regularization: w^2 = \",wTw)\n",
    "        print('Train error = %f, Test error = %f \\n'%(e_train/n_train,e_test/n_test))"
   ]
  },
  {
   "cell_type": "code",
   "execution_count": 27,
   "metadata": {
    "collapsed": false
   },
   "outputs": [
    {
     "data": {
      "image/png": "[encoded data removed]",
      "text/plain": [
       "<Figure size 720x1440 with 1 Axes>"
      ]
     },
     "metadata": {},
     "output_type": "display_data"
    }
   ],
   "source": [
    "show_digit(x_train)"
   ]
  }
 ],
 "metadata": {
  "kernelspec": {
   "display_name": "Python 3",
   "language": "python",
   "name": "python3"
  },
  "language_info": {
   "codemirror_mode": {
    "name": "ipython",
    "version": 3
   },
   "file_extension": ".py",
   "mimetype": "text/x-python",
   "name": "python",
   "nbconvert_exporter": "python",
   "pygments_lexer": "ipython3",
   "version": "3.6.0"
  },
  "latex_envs": {
   "LaTeX_envs_menu_present": true,
   "autocomplete": true,
   "bibliofile": "biblio.bib",
   "cite_by": "apalike",
   "current_citInitial": 1,
   "eqLabelWithNumbers": true,
   "eqNumInitial": 1,
   "hotkeys": {
    "equation": "Ctrl-E",
    "itemize": "Ctrl-I"
   },
   "labels_anchors": false,
   "latex_user_defs": false,
   "report_style_numbering": false,
   "user_envs_cfg": false
  },
  "varInspector": {
   "cols": {
    "lenName": 16,
    "lenType": 16,
    "lenVar": 40
   },
   "kernels_config": {
    "python": {
     "delete_cmd_postfix": "",
     "delete_cmd_prefix": "del ",
     "library": "var_list.py",
     "varRefreshCmd": "print(var_dic_list())"
    },
    "r": {
     "delete_cmd_postfix": ") ",
     "delete_cmd_prefix": "rm(",
     "library": "var_list.r",
     "varRefreshCmd": "cat(var_dic_list()) "
    }
   },
   "types_to_exclude": [
    "module",
    "function",
    "builtin_function_or_method",
    "instance",
    "_Feature"
   ],
   "window_display": false
  }
 },
 "nbformat": 4,
 "nbformat_minor": 2
}
